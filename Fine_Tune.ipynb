{
 "cells": [
  {
   "cell_type": "code",
   "execution_count": 1,
   "metadata": {},
   "outputs": [
    {
     "name": "stdout",
     "output_type": "stream",
     "text": [
      "train image shape: (60000, 28, 28)\n",
      "train label shape: (60000,)\n",
      "test image shape: (10000, 28, 28)\n",
      "test label shape: (10000,)\n"
     ]
    }
   ],
   "source": [
    "# import the necessary packages\n",
    "\n",
    "# For working with neural networks\n",
    "from tensorflow import keras\n",
    "from keras.datasets import mnist\n",
    "from keras.utils import np_utils\n",
    "from keras.models import Sequential\n",
    "from keras.layers.convolutional import Conv2D, MaxPooling2D\n",
    "from keras.optimizers import Adam\n",
    "from keras.layers import Dense, Dropout, Activation, Flatten\n",
    "from keras.models import Model\n",
    "\n",
    "# For data processing\n",
    "import matplotlib.pyplot as plt\n",
    "import matplotlib.pyplot as plt\n",
    "import numpy as np\n",
    "\n",
    "# loading the MNIST dataset\n",
    "(x_train,y_train),(x_test,y_test)=mnist.load_data()\n",
    "\n",
    "# print shape of each variable\n",
    "print(\"train image shape:\",x_train.shape)  \n",
    "print(\"train label shape:\",y_train.shape) \n",
    "print(\"test image shape:\",x_test.shape) \n",
    "print(\"test label shape:\",y_test.shape)"
   ]
  },
  {
   "cell_type": "code",
   "execution_count": 2,
   "metadata": {},
   "outputs": [
    {
     "data": {
      "image/png": "[encoded data removed]",
      "text/plain": [
       "<Figure size 576x576 with 9 Axes>"
      ]
     },
     "metadata": {},
     "output_type": "display_data"
    }
   ],
   "source": [
    "fig, axes = plt.subplots(3, 3, figsize=(8,8))\n",
    "fig.subplots_adjust(hspace=0.5, wspace=0.5)\n",
    "\n",
    "for i, ax in enumerate(axes.flat):\n",
    "    ax.imshow(x_train[i], cmap = 'gray')\n",
    "    ax.set_xticks([])\n",
    "    ax.set_yticks([])\n",
    "       \n",
    "plt.show()"
   ]
  },
  {
   "cell_type": "code",
   "execution_count": 3,
   "metadata": {},
   "outputs": [],
   "source": [
    "# convert to 4 dimension\n",
    "x_train=x_train.reshape([-1,28,28,1])\n",
    "x_test=x_test.reshape([-1,28,28,1])\n",
    "\n",
    "# convert to float\n",
    "x_train=x_train.astype('float32')\n",
    "x_test=x_test.astype('float32')\n",
    "\n",
    "# divide by max value 255\n",
    "x_train=x_train/225.0\n",
    "x_test=x_test/255.0"
   ]
  },
  {
   "cell_type": "code",
   "execution_count": 4,
   "metadata": {},
   "outputs": [],
   "source": [
    "y_train=np_utils.to_categorical(y_train,10)\n",
    "y_test=np_utils.to_categorical(y_test,10)"
   ]
  },
  {
   "cell_type": "code",
   "execution_count": 5,
   "metadata": {},
   "outputs": [
    {
     "name": "stdout",
     "output_type": "stream",
     "text": [
      "Model: \"sequential\"\n",
      "_________________________________________________________________\n",
      "Layer (type)                 Output Shape              Param #   \n",
      "=================================================================\n",
      "conv2d (Conv2D)              (None, 26, 26, 32)        320       \n",
      "_________________________________________________________________\n",
      "max_pooling2d (MaxPooling2D) (None, 13, 13, 32)        0         \n",
      "_________________________________________________________________\n",
      "conv2d_1 (Conv2D)            (None, 11, 11, 64)        18496     \n",
      "_________________________________________________________________\n",
      "max_pooling2d_1 (MaxPooling2 (None, 5, 5, 64)          0         \n",
      "_________________________________________________________________\n",
      "conv2d_2 (Conv2D)            (None, 3, 3, 128)         73856     \n",
      "_________________________________________________________________\n",
      "max_pooling2d_2 (MaxPooling2 (None, 1, 1, 128)         0         \n",
      "_________________________________________________________________\n",
      "dropout (Dropout)            (None, 1, 1, 128)         0         \n",
      "_________________________________________________________________\n",
      "flatten (Flatten)            (None, 128)               0         \n",
      "_________________________________________________________________\n",
      "dense (Dense)                (None, 128)               16512     \n",
      "_________________________________________________________________\n",
      "dense_1 (Dense)              (None, 10)                1290      \n",
      "=================================================================\n",
      "Total params: 110,474\n",
      "Trainable params: 110,474\n",
      "Non-trainable params: 0\n",
      "_________________________________________________________________\n",
      "None\n"
     ]
    }
   ],
   "source": [
    "model=Sequential()\n",
    "\n",
    "# first block\n",
    "model.add(Conv2D(32, kernel_size=(3, 3), input_shape=(x_train.shape[1:]), activation='relu'))\n",
    "model.add(MaxPooling2D(pool_size=(2,2)))\n",
    "\n",
    "# second block\n",
    "model.add(Conv2D(64, kernel_size=(3,3), activation='relu'))\n",
    "model.add(MaxPooling2D(pool_size=(2,2)))\n",
    "model.add(Conv2D(128, kernel_size=(3,3), activation='relu'))\n",
    "model.add(MaxPooling2D(pool_size=(2,2)))\n",
    "model.add(Dropout(0.2))\n",
    "\n",
    "# flattening followed by dense layer and final output layer\n",
    "model.add(Flatten())\n",
    "model.add(Dense(128, activation='relu'))\n",
    "model.add(Dense(10,activation='softmax'))\n",
    "\n",
    "print(model.summary())"
   ]
  },
  {
   "cell_type": "code",
   "execution_count": 6,
   "metadata": {},
   "outputs": [
    {
     "name": "stdout",
     "output_type": "stream",
     "text": [
      "Epoch 1/3\n",
      "1875/1875 [==============================] - 74s 39ms/step - loss: 0.4829 - accuracy: 0.8433 - val_loss: 0.0754 - val_accuracy: 0.9796\n",
      "Epoch 2/3\n",
      "1875/1875 [==============================] - 101s 54ms/step - loss: 0.0875 - accuracy: 0.9739 - val_loss: 0.0577 - val_accuracy: 0.9832\n",
      "Epoch 3/3\n",
      "1875/1875 [==============================] - 83s 44ms/step - loss: 0.0623 - accuracy: 0.9809 - val_loss: 0.0459 - val_accuracy: 0.9871\n"
     ]
    },
    {
     "data": {
      "text/plain": [
       "<tensorflow.python.keras.callbacks.History at 0x13dafc4c0>"
      ]
     },
     "execution_count": 6,
     "metadata": {},
     "output_type": "execute_result"
    }
   ],
   "source": [
    "# compiling the model\n",
    "model.compile(loss='categorical_crossentropy',  optimizer=Adam(), metrics=['accuracy'])\n",
    "\n",
    "# train the model training dataset\n",
    "model.fit(x_train, y_train, epochs=3, validation_data=(x_test, y_test), batch_size=32)"
   ]
  },
  {
   "cell_type": "code",
   "execution_count": 7,
   "metadata": {},
   "outputs": [
    {
     "name": "stdout",
     "output_type": "stream",
     "text": [
      "Test loss: 0.04586225375533104\n",
      "Test accuracy: 0.9871000051498413\n"
     ]
    }
   ],
   "source": [
    "# evaluate the model on test data\n",
    "score = model.evaluate(x_test, y_test, verbose = 0) \n",
    "print('Test loss:', score[0]) \n",
    "print('Test accuracy:', score[1])\n",
    "\n",
    "# predicting on the test data\n",
    "y_pred=model.predict(x_test)"
   ]
  },
  {
   "cell_type": "code",
   "execution_count": 8,
   "metadata": {},
   "outputs": [
    {
     "data": {
      "image/png": "[encoded data removed]",
      "text/plain": [
       "<Figure size 576x576 with 9 Axes>"
      ]
     },
     "metadata": {},
     "output_type": "display_data"
    }
   ],
   "source": [
    "prediction=model.predict(x_test[0:9])\n",
    "y_true_cls = np.argmax(y_test[0:9], axis=1)\n",
    "y_pred_cls = np.argmax(prediction, axis=1)\n",
    "\n",
    "fig, axes = plt.subplots(3, 3, figsize=(8,8))\n",
    "fig.subplots_adjust(hspace=0.5, wspace=0.5)\n",
    "\n",
    "for i, ax in enumerate(axes.flat):\n",
    "  ax.imshow(x_test[i], cmap = 'gray')\n",
    "  xlabel = \"True: {0}, Pred: {1}\".format(y_true_cls[i], y_pred_cls[i]) \n",
    "  ax.set_xlabel(xlabel)\n",
    "  ax.set_xticks([])\n",
    "  ax.set_yticks([])\n",
    "\n",
    "plt.show()"
   ]
  },
  {
   "cell_type": "code",
   "execution_count": 9,
   "metadata": {},
   "outputs": [
    {
     "name": "stdout",
     "output_type": "stream",
     "text": [
      "<tensorflow.python.keras.layers.convolutional.Conv2D object at 0x13bb30700>: False\n",
      "<tensorflow.python.keras.layers.pooling.MaxPooling2D object at 0x13bb472e0>: False\n",
      "<tensorflow.python.keras.layers.convolutional.Conv2D object at 0x13da292e0>: False\n",
      "<tensorflow.python.keras.layers.pooling.MaxPooling2D object at 0x13da5a370>: False\n",
      "<tensorflow.python.keras.layers.convolutional.Conv2D object at 0x13da5ab20>: False\n",
      "<tensorflow.python.keras.layers.pooling.MaxPooling2D object at 0x13da74e20>: False\n",
      "<tensorflow.python.keras.layers.core.Dropout object at 0x13da803a0>: False\n",
      "<tensorflow.python.keras.layers.core.Flatten object at 0x13da80af0>: False\n",
      "<tensorflow.python.keras.layers.core.Dense object at 0x13da7bee0>: False\n",
      "<tensorflow.python.keras.layers.core.Dense object at 0x13da5a0a0>: False\n"
     ]
    }
   ],
   "source": [
    "# FINE TUNING CNN MODEL TRAINED ON MNIST digit dataset\n",
    "\n",
    "# loop over all layers in the base model and freeze them so they will\n",
    "# *not* be updated during the first training process\n",
    "\n",
    "for layer in model.layers:\n",
    "    layer.trainable=False\n",
    "    \n",
    "# Too see if layers are trainable or not    \n",
    "for layer in model.layers:\n",
    "    print(\"{}: {}\".format(layer, layer.trainable))    "
   ]
  },
  {
   "cell_type": "code",
   "execution_count": 10,
   "metadata": {},
   "outputs": [
    {
     "name": "stdout",
     "output_type": "stream",
     "text": [
      "Model: \"model\"\n",
      "_________________________________________________________________\n",
      "Layer (type)                 Output Shape              Param #   \n",
      "=================================================================\n",
      "conv2d_input (InputLayer)    [(None, 28, 28, 1)]       0         \n",
      "_________________________________________________________________\n",
      "conv2d (Conv2D)              (None, 26, 26, 32)        320       \n",
      "_________________________________________________________________\n",
      "max_pooling2d (MaxPooling2D) (None, 13, 13, 32)        0         \n",
      "_________________________________________________________________\n",
      "conv2d_1 (Conv2D)            (None, 11, 11, 64)        18496     \n",
      "_________________________________________________________________\n",
      "max_pooling2d_1 (MaxPooling2 (None, 5, 5, 64)          0         \n",
      "_________________________________________________________________\n",
      "conv2d_2 (Conv2D)            (None, 3, 3, 128)         73856     \n",
      "_________________________________________________________________\n",
      "max_pooling2d_2 (MaxPooling2 (None, 1, 1, 128)         0         \n",
      "_________________________________________________________________\n",
      "dropout (Dropout)            (None, 1, 1, 128)         0         \n",
      "_________________________________________________________________\n",
      "flatten (Flatten)            (None, 128)               0         \n",
      "_________________________________________________________________\n",
      "dense (Dense)                (None, 128)               16512     \n",
      "_________________________________________________________________\n",
      "dense_1 (Dense)              (None, 10)                1290      \n",
      "_________________________________________________________________\n",
      "flatten_1 (Flatten)          (None, 10)                0         \n",
      "_________________________________________________________________\n",
      "dense_2 (Dense)              (None, 300)               3300      \n",
      "_________________________________________________________________\n",
      "dense_3 (Dense)              (None, 100)               30100     \n",
      "_________________________________________________________________\n",
      "dense_4 (Dense)              (None, 64)                6464      \n",
      "_________________________________________________________________\n",
      "dropout_1 (Dropout)          (None, 64)                0         \n",
      "_________________________________________________________________\n",
      "dense_5 (Dense)              (None, 10)                650       \n",
      "=================================================================\n",
      "Total params: 150,988\n",
      "Trainable params: 40,514\n",
      "Non-trainable params: 110,474\n",
      "_________________________________________________________________\n",
      "None\n"
     ]
    }
   ],
   "source": [
    "# construct the head of the model that will be placed on top of the\n",
    "# the base model\n",
    "x = model.output\n",
    "\n",
    "#add flatten layer so we can add the fully connected layer later\n",
    "x = Flatten()(x)\n",
    "x = Dense(300, activation='relu')(x)\n",
    "x = Dense(100, activation='relu')(x)\n",
    "x = Dense(64, activation='relu')(x)\n",
    "x = Dropout(0.5)(x)\n",
    "x = Dense(10, activation='softmax')(x)\n",
    "\n",
    "#create the new model\n",
    "\n",
    "# place the head FC model on top of the base model (this will become\n",
    "# the actual model we will train)\n",
    "new_model = Model(inputs=model.input, outputs=x)\n",
    "\n",
    "print(new_model.summary())"
   ]
  },
  {
   "cell_type": "code",
   "execution_count": 11,
   "metadata": {},
   "outputs": [],
   "source": [
    "# Load the fashion-mnist pre-shuffled train data and test data\n",
    "fashion_mnist = keras.datasets.fashion_mnist\n",
    "(X_train_full, y_train_full), (X_test1, y_test1) = fashion_mnist.load_data()"
   ]
  },
  {
   "cell_type": "code",
   "execution_count": 12,
   "metadata": {},
   "outputs": [],
   "source": [
    "# Dividing the dataset in training and validation dataset\n",
    "# Normalize pixel values to be between 0 and 1\n",
    "X_valid1, X_train1 = X_train_full[:5000] / 255.0, X_train_full[5000:] / 255.0\n",
    "y_valid1, y_train1 = y_train_full[:5000], y_train_full[5000:]"
   ]
  },
  {
   "cell_type": "code",
   "execution_count": 13,
   "metadata": {},
   "outputs": [],
   "source": [
    "# initialize the list of class label names\n",
    "class_names = [\"T-shirt/top\", \"Trouser\", \"Pullover\", \"Dress\", \"Coat\",\n",
    "\"Sandal\", \"Shirt\", \"Sneaker\", \"Bag\", \"Ankle boot\"]"
   ]
  },
  {
   "cell_type": "code",
   "execution_count": 14,
   "metadata": {},
   "outputs": [],
   "source": [
    "#Compile the new model created\n",
    "new_model.compile(loss=\"sparse_categorical_crossentropy\", optimizer='sgd', metrics=[\"accuracy\"])"
   ]
  },
  {
   "cell_type": "code",
   "execution_count": 15,
   "metadata": {},
   "outputs": [
    {
     "name": "stdout",
     "output_type": "stream",
     "text": [
      "1719/1719 [==============================] - 25s 14ms/step - loss: 2.2367 - accuracy: 0.1970 - val_loss: 1.9070 - val_accuracy: 0.3494\n"
     ]
    }
   ],
   "source": [
    "#train the model with 1 epoch on the freezed layer to train the model.\n",
    "history = new_model.fit(X_train1, y_train1,batch_size=32, epochs=1, validation_data=(X_valid1, y_valid1))"
   ]
  },
  {
   "cell_type": "code",
   "execution_count": null,
   "metadata": {},
   "outputs": [],
   "source": []
  },
  {
   "cell_type": "code",
   "execution_count": 16,
   "metadata": {},
   "outputs": [
    {
     "name": "stdout",
     "output_type": "stream",
     "text": [
      "Epoch 1/32\n",
      "1719/1719 [==============================] - 72s 41ms/step - loss: 1.6926 - accuracy: 0.3659 - val_loss: 1.0923 - val_accuracy: 0.5600\n",
      "Epoch 2/32\n",
      "1719/1719 [==============================] - 100s 58ms/step - loss: 1.1363 - accuracy: 0.5506 - val_loss: 0.8240 - val_accuracy: 0.6958\n",
      "Epoch 3/32\n",
      "1719/1719 [==============================] - 70s 41ms/step - loss: 0.9214 - accuracy: 0.6524 - val_loss: 0.7109 - val_accuracy: 0.7354\n",
      "Epoch 4/32\n",
      "1719/1719 [==============================] - 85s 49ms/step - loss: 0.8056 - accuracy: 0.7056 - val_loss: 0.6343 - val_accuracy: 0.7702\n",
      "Epoch 5/32\n",
      "1719/1719 [==============================] - 64s 37ms/step - loss: 0.7312 - accuracy: 0.7358 - val_loss: 0.6181 - val_accuracy: 0.7676\n",
      "Epoch 6/32\n",
      "1719/1719 [==============================] - 66s 38ms/step - loss: 0.6894 - accuracy: 0.7570 - val_loss: 0.5680 - val_accuracy: 0.7946\n",
      "Epoch 7/32\n",
      "1719/1719 [==============================] - 70s 41ms/step - loss: 0.6572 - accuracy: 0.7676 - val_loss: 0.5559 - val_accuracy: 0.8028\n",
      "Epoch 8/32\n",
      "1719/1719 [==============================] - 56s 33ms/step - loss: 0.6338 - accuracy: 0.7825 - val_loss: 0.5313 - val_accuracy: 0.8206\n",
      "Epoch 9/32\n",
      "1719/1719 [==============================] - 61s 35ms/step - loss: 0.6133 - accuracy: 0.7889 - val_loss: 0.5149 - val_accuracy: 0.8136\n",
      "Epoch 10/32\n",
      "1719/1719 [==============================] - 55s 32ms/step - loss: 0.5883 - accuracy: 0.7995 - val_loss: 0.4883 - val_accuracy: 0.8338\n",
      "Epoch 11/32\n",
      "1719/1719 [==============================] - 57s 33ms/step - loss: 0.5743 - accuracy: 0.8078 - val_loss: 0.4863 - val_accuracy: 0.8280\n",
      "Epoch 12/32\n",
      "1719/1719 [==============================] - 55s 32ms/step - loss: 0.5475 - accuracy: 0.8162 - val_loss: 0.4775 - val_accuracy: 0.8368\n",
      "Epoch 13/32\n",
      "1719/1719 [==============================] - 53s 31ms/step - loss: 0.5349 - accuracy: 0.8202 - val_loss: 0.4667 - val_accuracy: 0.8324\n",
      "Epoch 14/32\n",
      "1719/1719 [==============================] - 73s 43ms/step - loss: 0.5202 - accuracy: 0.8251 - val_loss: 0.4658 - val_accuracy: 0.8384\n",
      "Epoch 15/32\n",
      "1719/1719 [==============================] - 72s 42ms/step - loss: 0.5114 - accuracy: 0.8268 - val_loss: 0.4339 - val_accuracy: 0.8496\n",
      "Epoch 16/32\n",
      "1719/1719 [==============================] - 63s 37ms/step - loss: 0.4942 - accuracy: 0.8332 - val_loss: 0.4411 - val_accuracy: 0.8446\n",
      "Epoch 17/32\n",
      "1719/1719 [==============================] - 60s 35ms/step - loss: 0.4975 - accuracy: 0.8350 - val_loss: 0.4257 - val_accuracy: 0.8522\n",
      "Epoch 18/32\n",
      "1719/1719 [==============================] - 68s 40ms/step - loss: 0.4843 - accuracy: 0.8357 - val_loss: 0.4167 - val_accuracy: 0.8496\n",
      "Epoch 19/32\n",
      "1719/1719 [==============================] - 61s 36ms/step - loss: 0.4773 - accuracy: 0.8411 - val_loss: 0.4125 - val_accuracy: 0.8532\n",
      "Epoch 20/32\n",
      "1719/1719 [==============================] - 64s 37ms/step - loss: 0.4679 - accuracy: 0.8430 - val_loss: 0.4074 - val_accuracy: 0.8554\n",
      "Epoch 21/32\n",
      "1719/1719 [==============================] - 84s 49ms/step - loss: 0.4569 - accuracy: 0.8442 - val_loss: 0.4081 - val_accuracy: 0.8586\n",
      "Epoch 22/32\n",
      "1719/1719 [==============================] - 65s 38ms/step - loss: 0.4528 - accuracy: 0.8450 - val_loss: 0.4128 - val_accuracy: 0.8568\n",
      "Epoch 23/32\n",
      "1719/1719 [==============================] - 58s 34ms/step - loss: 0.4509 - accuracy: 0.8483 - val_loss: 0.3966 - val_accuracy: 0.8574\n",
      "Epoch 24/32\n",
      "1719/1719 [==============================] - 60s 35ms/step - loss: 0.4541 - accuracy: 0.8445 - val_loss: 0.3911 - val_accuracy: 0.8618\n",
      "Epoch 25/32\n",
      "1719/1719 [==============================] - 69s 40ms/step - loss: 0.4411 - accuracy: 0.8492 - val_loss: 0.4034 - val_accuracy: 0.8536\n",
      "Epoch 26/32\n",
      "1719/1719 [==============================] - 70s 41ms/step - loss: 0.4308 - accuracy: 0.8550 - val_loss: 0.3881 - val_accuracy: 0.8628\n",
      "Epoch 27/32\n",
      "1719/1719 [==============================] - 67s 39ms/step - loss: 0.4259 - accuracy: 0.8551 - val_loss: 0.3811 - val_accuracy: 0.8656\n",
      "Epoch 28/32\n",
      "1719/1719 [==============================] - 70s 41ms/step - loss: 0.4218 - accuracy: 0.8552 - val_loss: 0.3705 - val_accuracy: 0.8670\n",
      "Epoch 29/32\n",
      "1719/1719 [==============================] - 73s 42ms/step - loss: 0.4117 - accuracy: 0.8586 - val_loss: 0.3861 - val_accuracy: 0.8640\n",
      "Epoch 30/32\n",
      "1719/1719 [==============================] - 57s 33ms/step - loss: 0.4133 - accuracy: 0.8596 - val_loss: 0.3730 - val_accuracy: 0.8660\n",
      "Epoch 31/32\n",
      "1719/1719 [==============================] - 57s 33ms/step - loss: 0.4070 - accuracy: 0.8608 - val_loss: 0.3732 - val_accuracy: 0.8690\n",
      "Epoch 32/32\n",
      "1719/1719 [==============================] - 57s 33ms/step - loss: 0.4014 - accuracy: 0.8610 - val_loss: 0.3670 - val_accuracy: 0.8690\n",
      "313/313 [==============================] - 5s 15ms/step - loss: 8.2403 - accuracy: 0.4931\n",
      "\n",
      " Test accuracy: 0.49309998750686646\n"
     ]
    }
   ],
   "source": [
    "for layer in model.layers[2:]:\n",
    "    layer.trainable = True\n",
    "    \n",
    "new_model.compile(loss=\"sparse_categorical_crossentropy\", optimizer='sgd', metrics=[\"accuracy\"])\n",
    "history = new_model.fit(X_train1, y_train1,batch_size=32, epochs=32, validation_data=(X_valid1, y_valid1))\n",
    "\n",
    "# Evaluate the new model on test set\n",
    "score1 = new_model.evaluate(X_test1, y_test1)\n",
    "\n",
    "# Print test accuracy\n",
    "print('\\n', 'Test accuracy:', score1[1])"
   ]
  },
  {
   "cell_type": "code",
   "execution_count": 19,
   "metadata": {},
   "outputs": [
    {
     "data": {
      "text/plain": [
       "array([9, 8, 1])"
      ]
     },
     "execution_count": 19,
     "metadata": {},
     "output_type": "execute_result"
    }
   ],
   "source": [
    "X_new = X_test1[:3]\n",
    "y_proba = new_model.predict(X_new)\n",
    "y_proba.round(2)\n",
    "\n",
    "# model.predict_classes() is deprecated after 01/01/2021\n",
    "# model does multi-class classification\n",
    "y_pred = np.argmax(y_proba, axis=-1)\n",
    "y_pred"
   ]
  },
  {
   "cell_type": "code",
   "execution_count": 20,
   "metadata": {},
   "outputs": [
    {
     "data": {
      "text/plain": [
       "<matplotlib.legend.Legend at 0x13dbecf10>"
      ]
     },
     "execution_count": 20,
     "metadata": {},
     "output_type": "execute_result"
    },
    {
     "data": {
      "image/png": "[encoded data removed]",
      "text/plain": [
       "<Figure size 432x288 with 1 Axes>"
      ]
     },
     "metadata": {
      "needs_background": "light"
     },
     "output_type": "display_data"
    }
   ],
   "source": [
    "plt.plot(history.history['accuracy'], label='accuracy')\n",
    "plt.plot(history.history['val_accuracy'], label = 'val_accuracy')\n",
    "plt.xlabel('Epoch')\n",
    "plt.ylabel('Accuracy')\n",
    "plt.ylim([0.5, 1])\n",
    "plt.legend(loc='lower right')"
   ]
  },
  {
   "cell_type": "code",
   "execution_count": null,
   "metadata": {},
   "outputs": [],
   "source": []
  }
 ],
 "metadata": {
  "kernelspec": {
   "display_name": "Python 3",
   "language": "python",
   "name": "python3"
  },
  "language_info": {
   "codemirror_mode": {
    "name": "ipython",
    "version": 3
   },
   "file_extension": ".py",
   "mimetype": "text/x-python",
   "name": "python",
   "nbconvert_exporter": "python",
   "pygments_lexer": "ipython3",
   "version": "3.8.5"
  }
 },
 "nbformat": 4,
 "nbformat_minor": 4
}
